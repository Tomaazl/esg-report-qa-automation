{
 "cells": [
  {
   "cell_type": "markdown",
   "id": "1bdd35c5",
   "metadata": {},
   "source": [
    "# Creating QA-pairs from ESG report using AI."
   ]
  },
  {
   "cell_type": "code",
   "execution_count": null,
   "id": "2b728e51",
   "metadata": {},
   "outputs": [],
   "source": [
    "from openai_qa_gen import *\n",
    "import re\n",
    "import PyPDF2\n",
    "\n",
    "def extract_text_from_pdf(pdf_path):\n",
    "    text = \"\"\n",
    "    with open(pdf_path, \"rb\") as file:\n",
    "        reader = PyPDF2.PdfReader(file)\n",
    "        for page in reader.pages:\n",
    "            text += page.extract_text() or \"\"\n",
    "    return text\n",
    "def clean_text(text):\n",
    "    text = text.lower()\n",
    "    text = re.sub(r'\\s+', ' ', text)\n",
    "    text = re.sub(r'[^\\x00-\\x7F]+', '', text)\n",
    "    return text.strip()\n",
    "cleaned_text = clean_text(extract_text_from_pdf(\"Sustainability_Highlights_2024.pdf\"))\n",
    "# Example prompt\n",
    "prompt = f\"Extract a relevant ESG question and answer from the provided report: {cleaned_text}\"\n",
    "\n",
    "# Call the function\n",
    "result = call_openai_structured(\n",
    "    client=client,\n",
    "    output_class=output_class,\n",
    "    prompt=prompt,\n",
    "    system_prompt=system_prompt,\n",
    "    deployment=\"esg-qa\",  # Replace with your actual deployment name\n",
    "    temperature=0.3\n",
    ")\n",
    "\n",
    "print(result)"
   ]
  },
  {
   "cell_type": "code",
   "execution_count": 8,
   "id": "ff672c8d",
   "metadata": {},
   "outputs": [
    {
     "name": "stderr",
     "output_type": "stream",
     "text": [
      "C:\\Users\\tuomas.leiden_record\\AppData\\Local\\Temp\\ipykernel_13428\\1110974090.py:3: PydanticDeprecatedSince20: The `dict` method is deprecated; use `model_dump` instead. Deprecated in Pydantic V2.0 to be removed in V3.0. See Pydantic V2 Migration Guide at https://errors.pydantic.dev/2.11/migration/\n",
      "  result_json = result.dict()\n"
     ]
    }
   ],
   "source": [
    "import json\n",
    "# Convert result to json\n",
    "result_json = result.dict()\n",
    "result_json\n",
    "\n",
    "with open(\"qa_pairs.json\", 'w') as json_file:\n",
    "    json.dump(result_json, json_file)"
   ]
  }
 ],
 "metadata": {
  "kernelspec": {
   "display_name": ".venv",
   "language": "python",
   "name": "python3"
  },
  "language_info": {
   "codemirror_mode": {
    "name": "ipython",
    "version": 3
   },
   "file_extension": ".py",
   "mimetype": "text/x-python",
   "name": "python",
   "nbconvert_exporter": "python",
   "pygments_lexer": "ipython3",
   "version": "3.13.7"
  }
 },
 "nbformat": 4,
 "nbformat_minor": 5
}
